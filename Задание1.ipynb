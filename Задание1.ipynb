{
  "nbformat": 4,
  "nbformat_minor": 0,
  "metadata": {
    "colab": {
      "provenance": []
    },
    "kernelspec": {
      "name": "python3",
      "display_name": "Python 3"
    },
    "language_info": {
      "name": "python"
    }
  },
  "cells": [
    {
      "cell_type": "code",
      "execution_count": 57,
      "metadata": {
        "colab": {
          "base_uri": "https://localhost:8080/"
        },
        "id": "JAF7kcZxQyi_",
        "outputId": "198847ef-6224-4d02-bb70-b39227529818"
      },
      "outputs": [
        {
          "output_type": "stream",
          "name": "stdout",
          "text": [
            "Температура по Цельсию: -20.5\n",
            "холодно\n"
          ]
        }
      ],
      "source": [
        "x = float (input (\"Температура по Цельсию: \"))\n",
        "if x < 15.5:\n",
        "  print(\"холодно\")\n",
        "if x > 28:\n",
        "  print(\"жарко\")\n",
        "if 15.5 <= x <= 28:\n",
        "  print(\"нормально\")"
      ]
    },
    {
      "cell_type": "code",
      "source": [
        "x = int (input (\"Количество строк: \"))\n",
        "for y in range(x):\n",
        "  y = input (x)\n",
        "while \"Кот\" or \"кот\" in y:\n",
        "  print(\"МЯУ\")\n",
        "  break\n",
        "else:\n",
        "  print(\"НЕТ\")\n"
      ],
      "metadata": {
        "colab": {
          "base_uri": "https://localhost:8080/"
        },
        "id": "NTCwJYHqE4RD",
        "outputId": "9699d288-8654-48d1-e085-84f83b763438"
      },
      "execution_count": 68,
      "outputs": [
        {
          "output_type": "stream",
          "name": "stdout",
          "text": [
            "Количество строк: 6\n",
            "6моток\n",
            "6отвага\n",
            "6нос\n",
            "6мотыга\n",
            "6ров\n",
            "6ток\n",
            "МЯУ\n"
          ]
        }
      ]
    },
    {
      "cell_type": "code",
      "source": [
        "x = input()\n",
        "words = []\n",
        "while x != \"стоп\":\n",
        "    words.append(x)\n",
        "    x = input()\n",
        "Mx = max(words, key=len)\n",
        "mi = min(words, key=len)\n",
        "if set(Mx).issuperset(set(mi)):\n",
        "    print(\"ДА\")\n",
        "else:\n",
        "    print(\"НЕТ\")\n"
      ],
      "metadata": {
        "colab": {
          "base_uri": "https://localhost:8080/"
        },
        "id": "sc0SHYp0hS_b",
        "outputId": "8df5fdd0-fba9-47f5-c69b-9584d9adc1b2"
      },
      "execution_count": 61,
      "outputs": [
        {
          "output_type": "stream",
          "name": "stdout",
          "text": [
            "карат\n",
            "кара\n",
            "каракал\n",
            "каракатица\n",
            "стоп\n",
            "ДА\n"
          ]
        }
      ]
    },
    {
      "cell_type": "code",
      "source": [
        "x = int(input(\"Кол-во покупок: \"))\n",
        "lst = []\n",
        "for i in range(x):\n",
        "  line = input()\n",
        "  lst.append(line)\n",
        "print(\"Список: \")\n",
        "for i in range(x):\n",
        "  print(lst[i])"
      ],
      "metadata": {
        "colab": {
          "base_uri": "https://localhost:8080/"
        },
        "id": "EeDHF2Tvo-Xp",
        "outputId": "22eab702-e516-41d8-b3e2-c3c2a5adc37d"
      },
      "execution_count": 72,
      "outputs": [
        {
          "output_type": "stream",
          "name": "stdout",
          "text": [
            "Кол-во покупок: 6\n",
            "хлеб\n",
            "пиво\n",
            "пиво\n",
            "пиво\n",
            "пиво\n",
            "пиво\n",
            "Список: \n",
            "хлеб\n",
            "пиво\n",
            "пиво\n",
            "пиво\n",
            "пиво\n",
            "пиво\n"
          ]
        }
      ]
    },
    {
      "cell_type": "code",
      "source": [
        "warm = input()\n",
        "cold = \"\"\n",
        "for i in warm:\n",
        "  cold = cold + i*2\n",
        "print(cold)"
      ],
      "metadata": {
        "colab": {
          "base_uri": "https://localhost:8080/"
        },
        "id": "Rq1GmxKcXQDJ",
        "outputId": "c036eb71-e9be-4f3f-e315-272e780afea6"
      },
      "execution_count": 36,
      "outputs": [
        {
          "output_type": "stream",
          "name": "stdout",
          "text": [
            "холодно\n",
            "ххооллоодднноо\n"
          ]
        }
      ]
    },
    {
      "cell_type": "code",
      "source": [
        "def greet():\n",
        "  first_name = input(\"Имя: \")\n",
        "  last_name = input(\"Фамилия: \")\n",
        "  print(\"Здравствуйте, \"+first_name+\" \"+last_name)\n",
        "greet()\n"
      ],
      "metadata": {
        "colab": {
          "base_uri": "https://localhost:8080/"
        },
        "id": "sGaK7Mjga5n0",
        "outputId": "4d7679c7-5990-4cdb-e256-4fa07bba8542"
      },
      "execution_count": 39,
      "outputs": [
        {
          "output_type": "stream",
          "name": "stdout",
          "text": [
            "Имя: Иван\n",
            "Фамилия: Иванов\n",
            "Здравствуйте, Иван Иванов\n"
          ]
        }
      ]
    },
    {
      "cell_type": "markdown",
      "source": [],
      "metadata": {
        "id": "QO8i9jm3cCVz"
      }
    }
  ]
}